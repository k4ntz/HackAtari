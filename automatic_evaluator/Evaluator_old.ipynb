{
 "cells": [
  {
   "cell_type": "markdown",
   "id": "4a1cb837-dc43-411e-ba07-54154ed4c634",
   "metadata": {},
   "source": [
    "# Automatic Evaluator"
   ]
  },
  {
   "cell_type": "code",
   "execution_count": 9,
   "id": "07a86aeb-77ec-4868-9b9c-67ccfdb189e1",
   "metadata": {},
   "outputs": [],
   "source": [
    "%%capture\n",
    "#########################\n",
    "# Requirements and Imports\n",
    "#########################\n",
    "!pip install ipywidgets\n",
    "!pip install widgetsnbextension\n",
    "\n",
    "from os import path\n",
    "import ipywidgets as widgets\n",
    "from pathlib import Path\n",
    "\n",
    "import torch\n",
    "import numpy as np\n",
    "import random"
   ]
  },
  {
   "cell_type": "code",
   "execution_count": 10,
   "id": "2155d626-4e0c-44b1-9ee4-1a424916a69b",
   "metadata": {},
   "outputs": [
    {
     "data": {
      "application/vnd.jupyter.widget-view+json": {
       "model_id": "0041b9dd40e246bc816a96022028af31",
       "version_major": 2,
       "version_minor": 0
      },
      "text/plain": [
       "Checkbox(value=True, description='Reproducibility')"
      ]
     },
     "metadata": {},
     "output_type": "display_data"
    }
   ],
   "source": [
    "reproducibility_field = widgets.Checkbox(\n",
    "    value = True,\n",
    "    description = \"Reproducibility\",\n",
    "    disabled = False\n",
    ")\n",
    "display(reproducibility_field)"
   ]
  },
  {
   "cell_type": "code",
   "execution_count": 11,
   "id": "2dfd398b-cdbe-4a1b-a4fc-a2c7d6032028",
   "metadata": {},
   "outputs": [
    {
     "data": {
      "application/vnd.jupyter.widget-view+json": {
       "model_id": "1466785cc6114797be805a4ccf31a781",
       "version_major": 2,
       "version_minor": 0
      },
      "text/plain": [
       "IntText(value=0, description='Seed:')"
      ]
     },
     "metadata": {},
     "output_type": "display_data"
    }
   ],
   "source": [
    "reproducibility = reproducibility_field.value\n",
    "if reproducibility:\n",
    "    seed_field = widgets.IntText(\n",
    "        value=0,\n",
    "        placeholder=0,\n",
    "        description=\"Seed:\",\n",
    "        disabled=False\n",
    "    )\n",
    "    display(seed_field)"
   ]
  },
  {
   "cell_type": "code",
   "execution_count": 12,
   "id": "82c5d65a-e6d0-4bb6-9bfa-10d9ac2df1d5",
   "metadata": {},
   "outputs": [
    {
     "name": "stdout",
     "output_type": "stream",
     "text": [
      "0\n"
     ]
    }
   ],
   "source": [
    "# Set seeds for PRGs\n",
    "\n",
    "reproducibility = reproducibility_field.value\n",
    "if reproducibility:\n",
    "    seed = seed_field.value\n",
    "    print(seed)\n",
    "    \n",
    "    random.seed(seed)\n",
    "    torch.manual_seed(seed)\n",
    "    np.random.seed(seed)\n",
    "    \n",
    "    # Use deterministic Algorithms\n",
    "    torch.use_deterministic_algorithms(True)\n",
    "    torch.utils.deterministic.fill_uninitialized_memory = True"
   ]
  },
  {
   "cell_type": "markdown",
   "id": "22bb008f-3cfa-4020-8fd6-f6180c0b5844",
   "metadata": {
    "editable": true,
    "slideshow": {
     "slide_type": ""
    },
    "tags": []
   },
   "source": [
    "## Game Selection"
   ]
  },
  {
   "cell_type": "code",
   "execution_count": 13,
   "id": "9e239221",
   "metadata": {},
   "outputs": [
    {
     "name": "stdout",
     "output_type": "stream",
     "text": [
      "['Adventure', 'AirRaid', 'Alien', 'Amidar', 'Assault', 'Asterix', 'Asteroids', 'Atlantis', 'BankHeist', 'BattleZone', 'BeamRider', 'Berzerk', 'Bowling', 'Boxing', 'Breakout', 'Carnival', 'Centipede', 'ChopperCommand', 'CrazyClimber', 'DemonAttack', 'DonkeyKong', 'DoubleDunk', 'Enduro', 'FishingDerby', 'Freeway', 'Frogger', 'Frostbite', 'Galaxian', 'Gopher', 'Hero', 'IceHockey', 'Jamesbond', 'Kangaroo', 'KeystoneKapers', 'KingKong', 'Krull', 'KungFuMaster', 'MarioBros', 'MontezumaRevenge', 'MsPacman', 'NameThisGame', 'Pacman', 'Phoenix', 'Pitfall', 'Pong', 'Pooyan', 'PrivateEye', 'Qbert', 'Riverraid', 'RoadRunner', 'Seaquest', 'Skiing', 'SpaceInvaders', 'StarGunner', 'Tennis', 'TimePilot', 'UpNDown', 'Venture', 'VideoPinball', 'YarsRevenge', 'Zaxxon']\n"
     ]
    }
   ],
   "source": [
    "import ocatari\n",
    "all_games = ocatari.core.AVAILABLE_GAMES\n",
    "print(all_games)"
   ]
  },
  {
   "cell_type": "code",
   "execution_count": 14,
   "id": "bd4a5969-bcfc-484f-802a-3df8a8de1763",
   "metadata": {
    "jupyter": {
     "source_hidden": true
    }
   },
   "outputs": [
    {
     "data": {
      "application/vnd.jupyter.widget-view+json": {
       "model_id": "f96450f41c3445ecb51e36eed0306cbf",
       "version_major": 2,
       "version_minor": 0
      },
      "text/plain": [
       "Select(description='Game:', index=21, layout=Layout(width='30%'), options=('Amidar', 'Assault', 'Asterix', 'At…"
      ]
     },
     "metadata": {},
     "output_type": "display_data"
    }
   ],
   "source": [
    "hack_games = [x.name.replace('.py', '') for x in Path('../hackatari/games').glob('*.py') if x.is_file() and x.name != '__init__.py']\n",
    "\n",
    "games_option = []\n",
    "for g in all_games:\n",
    "    if g.lower() in hack_games:\n",
    "        games_option.append(g)\n",
    "\n",
    "\n",
    "game_selector = widgets.Select(\n",
    "    options = games_option,\n",
    "    value = \"Pong\",\n",
    "    description = 'Game:',\n",
    "    disabled = False,\n",
    ")\n",
    "game_selector.layout.width = '30%'\n",
    "display(game_selector)"
   ]
  },
  {
   "cell_type": "code",
   "execution_count": 15,
   "id": "94d47732-3147-492e-8db4-746b16b2431b",
   "metadata": {},
   "outputs": [
    {
     "data": {
      "text/plain": [
       "'Pong'"
      ]
     },
     "execution_count": 15,
     "metadata": {},
     "output_type": "execute_result"
    }
   ],
   "source": [
    "selected_game = game_selector.value\n",
    "selected_game"
   ]
  },
  {
   "cell_type": "markdown",
   "id": "4797d52b-ee5a-44c9-ad17-fbf7e9007e1d",
   "metadata": {},
   "source": [
    "# Model Selection"
   ]
  },
  {
   "cell_type": "code",
   "execution_count": 16,
   "id": "bf06c346-ff9c-4d6c-8351-119079a4608a",
   "metadata": {},
   "outputs": [
    {
     "data": {
      "application/vnd.jupyter.widget-view+json": {
       "model_id": "07d02aff33c34b9fb42034b79fd3cd11",
       "version_major": 2,
       "version_minor": 0
      },
      "text/plain": [
       "SelectMultiple(description='Select Models', layout=Layout(width='30%'), options=(PosixPath('../models/Pong/0/c…"
      ]
     },
     "metadata": {},
     "output_type": "display_data"
    }
   ],
   "source": [
    "models = [m for m in Path('../models').glob('**/*.gz') if m.is_file() and selected_game.lower() in str(m).lower()]\n",
    "\n",
    "model_selector = widgets.SelectMultiple(\n",
    "    options=models,\n",
    "    value=[],\n",
    "    description=\"Select Models\",\n",
    "    display=\"flex\",\n",
    "    flew_flow=\"column\",\n",
    "    align_items=\"stretch\",\n",
    "    style={\"description_width\": \"initial\"},\n",
    "    disabled=False\n",
    ")\n",
    "model_selector.layout.width = '30%'\n",
    "display(model_selector)\n"
   ]
  },
  {
   "cell_type": "code",
   "execution_count": 17,
   "id": "fd341552",
   "metadata": {},
   "outputs": [
    {
     "data": {
      "text/plain": [
       "[PosixPath('../models/Pong/1/mdqn_modern_50M.gz'),\n",
       " PosixPath('../models/Pong/2/c51_classic_50M.gz'),\n",
       " PosixPath('../models/Pong/2/dqn_modern_50M.gz')]"
      ]
     },
     "execution_count": 17,
     "metadata": {},
     "output_type": "execute_result"
    }
   ],
   "source": [
    "models_list = list(model_selector.value)\n",
    "assert models_list, \"Please select at least one model\"\n",
    "models_list"
   ]
  },
  {
   "cell_type": "markdown",
   "id": "da9a3f29",
   "metadata": {},
   "source": [
    "# Add Run Arguments"
   ]
  },
  {
   "cell_type": "code",
   "execution_count": 18,
   "id": "c6d5d160",
   "metadata": {},
   "outputs": [
    {
     "data": {
      "application/vnd.jupyter.widget-view+json": {
       "model_id": "7f01f73b2f8b4cd580e22e01cc428d7a",
       "version_major": 2,
       "version_minor": 0
      },
      "text/plain": [
       "HBox(children=(Text(value='--human', description='Let user play', disabled=True), Dropdown(description='Type:'…"
      ]
     },
     "metadata": {},
     "output_type": "display_data"
    }
   ],
   "source": [
    "# Human player option. If True, the game will wait for user input to play.\n",
    "human_player = widgets.HBox([\n",
    "    widgets.Text(value='--human', description='Let user play', disabled=True),\n",
    "    widgets.Dropdown(options=[True, False], value=False, description='Type:', disabled=False)\n",
    "])\n",
    "\n",
    "display(human_player)"
   ]
  },
  {
   "cell_type": "code",
   "execution_count": 19,
   "id": "f1139797",
   "metadata": {},
   "outputs": [],
   "source": [
    "human_opt = '-hu' if human_player.children[1].value else None"
   ]
  },
  {
   "cell_type": "code",
   "execution_count": 20,
   "id": "fd1e3323",
   "metadata": {},
   "outputs": [
    {
     "data": {
      "application/vnd.jupyter.widget-view+json": {
       "model_id": "f5ad90c9e6c749c1b44a82d667f4e4f9",
       "version_major": 2,
       "version_minor": 0
      },
      "text/plain": [
       "VBox(children=(HBox(children=(Label(value=' ball_x_prev', layout=Layout(width='10%')), Label(value=\"\\n\\tint([x…"
      ]
     },
     "metadata": {},
     "output_type": "display_data"
    }
   ],
   "source": [
    "import hackatari.core as core\n",
    "\n",
    "avail_mod_for_game = core._available_modifications(selected_game).split('*')[1:]\n",
    "modifies_list = [mod.split(':') for mod in avail_mod_for_game]\n",
    "\n",
    "modifies_selector = widgets.VBox([\n",
    "        widgets.HBox([\n",
    "            widgets.Label(value=mod_name, layout={'width': '10%'}),\n",
    "            widgets.Label(value=mod_info, layout={'width': '50%'}),\n",
    "            widgets.Dropdown(options=[True, False], value=False, description='Value:',layout={'width': '15%'}, justify_content = 'flex-end')\n",
    "        ], justify_content = 'space-between') for mod_name, mod_info in modifies_list\n",
    "    ], layout={'width': '75%'})\n",
    "\n",
    "display(modifies_selector)"
   ]
  },
  {
   "cell_type": "code",
   "execution_count": 21,
   "id": "56c46c81",
   "metadata": {},
   "outputs": [
    {
     "data": {
      "text/plain": [
       "'down_drift lazy_enemy speed_ball'"
      ]
     },
     "execution_count": 21,
     "metadata": {},
     "output_type": "execute_result"
    }
   ],
   "source": [
    "mod_args = ' '.join([f'{mod.children[0].value.strip()}' for mod in modifies_selector.children if mod.children[2].value])\n",
    "mod_args"
   ]
  },
  {
   "cell_type": "markdown",
   "id": "46b96acf-2684-478f-8ad2-c3f435dd12de",
   "metadata": {},
   "source": [
    "# Run Game"
   ]
  },
  {
   "cell_type": "code",
   "execution_count": 23,
   "id": "ce1f14b4",
   "metadata": {},
   "outputs": [
    {
     "name": "stdout",
     "output_type": "stream",
     "text": [
      "Project Root: /mnt/c/Users/peng_/workspace/HackAtari\n",
      "command: python /mnt/c/Users/peng_/workspace/HackAtari/scripts/eval.py -g Pong -a ../models/Pong/1/mdqn_modern_50M.gz ../models/Pong/2/c51_classic_50M.gz ../models/Pong/2/dqn_modern_50M.gz -m down_drift lazy_enemy speed_ball\n"
     ]
    }
   ],
   "source": [
    "## prepare the command\n",
    "eval_script = Path(r\"scripts/eval.py\")\n",
    "run_script = Path(r\"scripts/run.py\")\n",
    "\n",
    "notebook_dir = path.abspath(\"\")\n",
    "project_root = path.dirname(notebook_dir)\n",
    "print(f\"Project Root: {project_root}\")\n",
    "\n",
    "# use posix_paths compatibile with the OS\n",
    "eval_path = (Path(project_root) / eval_script).as_posix()\n",
    "run_path = (Path(project_root) / run_script).as_posix()\n",
    "\n",
    "models_path = ' '.join( f'{model.as_posix()}' for model in models_list )\n",
    "\n",
    "if human_opt:\n",
    "    command = f\"python {run_path} -g {selected_game} {human_opt}\"\n",
    "else:\n",
    "    command = f\"python {eval_path} -g {selected_game} -a {models_path} -m {mod_args}\"\n",
    "\n",
    "print(\"command: \" + command)\n"
   ]
  },
  {
   "cell_type": "code",
   "execution_count": 25,
   "id": "2ae04dca",
   "metadata": {},
   "outputs": [
    {
     "name": "stdout",
     "output_type": "stream",
     "text": [
      "A.L.E: Arcade Learning Environment (version 0.10.2+c9d4b19)\n",
      "[Powered by Stella]\n",
      "Loaded agent from ../models/Pong/0/c51_classic_50M.gz\n",
      "Episode 1: Reward = -21.0\n",
      "Episode 2: Reward = -21.0\n",
      "Episode 3: Reward = -21.0\n",
      "Episode 4: Reward = -21.0\n",
      "Episode 5: Reward = -20.0\n",
      "Episode 6: Reward = -21.0\n",
      "Episode 7: Reward = -21.0\n",
      "Episode 8: Reward = -21.0\n",
      "Episode 9: Reward = -21.0\n",
      "Episode 10: Reward = -21.0\n",
      "\n",
      "Summary:\n",
      "Agent: ../models/Pong/0/c51_classic_50M.gz\n",
      "Total Episodes: 10\n",
      "Average Reward: -20.90\n",
      "Standard Deviation: 0.30\n",
      "Min Reward: -21.0\n",
      "Max Reward: -20.0\n",
      "--------------------------------------\n",
      "Loaded agent from ../models/Pong/0/dqn_modern_50M.gz\n",
      "Episode 1: Reward = -21.0\n",
      "Episode 2: Reward = -21.0\n",
      "Episode 3: Reward = -21.0\n",
      "Episode 4: Reward = -21.0\n",
      "Episode 5: Reward = -21.0\n",
      "Episode 6: Reward = -21.0\n",
      "Episode 7: Reward = -21.0\n",
      "Episode 8: Reward = -21.0\n",
      "Episode 9: Reward = -21.0\n",
      "Episode 10: Reward = -21.0\n",
      "\n",
      "Summary:\n",
      "Agent: ../models/Pong/0/dqn_modern_50M.gz\n",
      "Total Episodes: 10\n",
      "Average Reward: -21.00\n",
      "Standard Deviation: 0.00\n",
      "Min Reward: -21.0\n",
      "Max Reward: -21.0\n",
      "--------------------------------------\n",
      "Loaded agent from ../models/Pong/0/mdqn_modern_50M.gz\n",
      "Episode 1: Reward = -21.0\n",
      "Episode 2: Reward = -21.0\n",
      "Episode 3: Reward = -21.0\n",
      "Episode 4: Reward = -21.0\n",
      "Episode 5: Reward = -21.0\n",
      "Episode 6: Reward = -21.0\n",
      "Episode 7: Reward = -21.0\n",
      "Episode 8: Reward = -21.0\n",
      "Episode 9: Reward = -21.0\n",
      "Episode 10: Reward = -21.0\n",
      "\n",
      "Summary:\n",
      "Agent: ../models/Pong/0/mdqn_modern_50M.gz\n",
      "Total Episodes: 10\n",
      "Average Reward: -21.00\n",
      "Standard Deviation: 0.00\n",
      "Min Reward: -21.0\n",
      "Max Reward: -21.0\n",
      "--------------------------------------\n",
      "------------------------------------------------\n",
      "Overall Average Reward: -20.97\n",
      "Overall Standard Deviation: 0.18\n",
      "------------------------------------------------\n"
     ]
    }
   ],
   "source": [
    "# execute the command\n",
    "!{command}"
   ]
  },
  {
   "cell_type": "markdown",
   "id": "9172756d-9aaa-4214-8d8d-2dfe8a6264c8",
   "metadata": {},
   "source": [
    "# Evaluation"
   ]
  },
  {
   "cell_type": "code",
   "execution_count": 24,
   "id": "cb732699-43e9-4ccb-b8c8-aac2f843e3c1",
   "metadata": {},
   "outputs": [],
   "source": [
    "# add automatic_evaluator module to the path\n",
    "import os\n",
    "import sys\n",
    "module_path = os.path.abspath(os.path.join('..'))\n",
    "if module_path not in sys.path:\n",
    "    sys.path.append(module_path)\n",
    "    "
   ]
  },
  {
   "cell_type": "code",
   "execution_count": 25,
   "id": "5bdf8851",
   "metadata": {},
   "outputs": [
    {
     "name": "stdout",
     "output_type": "stream",
     "text": [
      "[['down_drift'], ['lazy_enemy'], ['speed_ball'], ['down_drift', 'lazy_enemy'], ['down_drift', 'speed_ball'], ['lazy_enemy', 'speed_ball'], ['down_drift', 'lazy_enemy', 'speed_ball']]\n"
     ]
    }
   ],
   "source": [
    "from itertools import combinations\n",
    "mod_list = mod_args.split(\" \")\n",
    "\n",
    "#mod_list = ['A','B','C']\n",
    "\n",
    "# return all non-emtpy subsets\n",
    "def subsets(fullset):    \n",
    "    result = []\n",
    "    for i in range(1, len(fullset) + 1):\n",
    "        tmp = [ list(c) for c in combinations(fullset, i) ]\n",
    "        result += tmp\n",
    "        \n",
    "    return result\n",
    "\n",
    "mod_sublists = subsets(mod_list)\n",
    "\n",
    "print(mod_sublists)"
   ]
  },
  {
   "cell_type": "code",
   "execution_count": 26,
   "id": "5fd14b81",
   "metadata": {},
   "outputs": [
    {
     "name": "stdout",
     "output_type": "stream",
     "text": [
      "Re-initialized empty Aim repository at /mnt/c/Users/peng_/workspace/HackAtari/automatic_evaluator\n"
     ]
    },
    {
     "data": {
      "text/html": [
       "\n",
       "              <iframe id=\"aim\" width=\"100%\" height=\"800\" frameborder=\"0\" src=http://127.0.0.1:43801/notebook>\n",
       "              </iframe>\n",
       "            "
      ],
      "text/plain": [
       "<IPython.core.display.HTML object>"
      ]
     },
     "metadata": {},
     "output_type": "display_data"
    }
   ],
   "source": [
    "%reload_ext aim\n",
    "\n",
    "!aim init -y # it will re-initialize empty aim repo.\n",
    "\n",
    "%aim up"
   ]
  },
  {
   "cell_type": "code",
   "execution_count": 27,
   "id": "2557aaac",
   "metadata": {},
   "outputs": [
    {
     "name": "stderr",
     "output_type": "stream",
     "text": [
      "A.L.E: Arcade Learning Environment (version 0.10.2+c9d4b19)\n",
      "[Powered by Stella]\n"
     ]
    },
    {
     "name": "stdout",
     "output_type": "stream",
     "text": [
      "Loaded agent from ../models/Pong/1/mdqn_modern_50M.gz\n",
      "--------------------------------------\n",
      "Loaded agent from ../models/Pong/2/c51_classic_50M.gz\n",
      "--------------------------------------\n",
      "Loaded agent from ../models/Pong/2/dqn_modern_50M.gz\n",
      "--------------------------------------\n",
      "Done.\n",
      "Loaded agent from ../models/Pong/1/mdqn_modern_50M.gz\n",
      "--------------------------------------\n",
      "Loaded agent from ../models/Pong/2/c51_classic_50M.gz\n",
      "--------------------------------------\n",
      "Loaded agent from ../models/Pong/2/dqn_modern_50M.gz\n",
      "--------------------------------------\n",
      "Done.\n",
      "Loaded agent from ../models/Pong/1/mdqn_modern_50M.gz\n",
      "--------------------------------------\n",
      "Loaded agent from ../models/Pong/2/c51_classic_50M.gz\n",
      "--------------------------------------\n",
      "Loaded agent from ../models/Pong/2/dqn_modern_50M.gz\n",
      "--------------------------------------\n",
      "Done.\n",
      "Loaded agent from ../models/Pong/1/mdqn_modern_50M.gz\n",
      "--------------------------------------\n",
      "Loaded agent from ../models/Pong/2/c51_classic_50M.gz\n",
      "--------------------------------------\n",
      "Loaded agent from ../models/Pong/2/dqn_modern_50M.gz\n",
      "--------------------------------------\n",
      "Done.\n",
      "Loaded agent from ../models/Pong/1/mdqn_modern_50M.gz\n",
      "--------------------------------------\n",
      "Loaded agent from ../models/Pong/2/c51_classic_50M.gz\n",
      "--------------------------------------\n",
      "Loaded agent from ../models/Pong/2/dqn_modern_50M.gz\n",
      "--------------------------------------\n",
      "Done.\n",
      "Loaded agent from ../models/Pong/1/mdqn_modern_50M.gz\n",
      "--------------------------------------\n",
      "Loaded agent from ../models/Pong/2/c51_classic_50M.gz\n",
      "--------------------------------------\n",
      "Loaded agent from ../models/Pong/2/dqn_modern_50M.gz\n",
      "--------------------------------------\n",
      "Done.\n",
      "Loaded agent from ../models/Pong/1/mdqn_modern_50M.gz\n",
      "--------------------------------------\n",
      "Loaded agent from ../models/Pong/2/c51_classic_50M.gz\n",
      "--------------------------------------\n",
      "Loaded agent from ../models/Pong/2/dqn_modern_50M.gz\n",
      "--------------------------------------\n",
      "Done.\n"
     ]
    }
   ],
   "source": [
    "%reload_ext autoreload\n",
    "\n",
    "%autoreload 1\n",
    "\n",
    "%aimport utils\n",
    "\n",
    "# agent_paths = [model.as_posix() for model in models_list]\n",
    "# for agent_path in agent_paths:\n",
    "#     agent_name = \"/\".join(agent_path.split(\"/\")[-2:])\n",
    "#     print(agent_name)\n",
    "        \n",
    "for modifs in mod_sublists:\n",
    "    utils.eval_withAimRun(selected_game, [ model.as_posix() for model in models_list], modifs)\n"
   ]
  }
 ],
 "metadata": {
  "kernelspec": {
   "display_name": "venv",
   "language": "python",
   "name": "python3"
  },
  "language_info": {
   "codemirror_mode": {
    "name": "ipython",
    "version": 3
   },
   "file_extension": ".py",
   "mimetype": "text/x-python",
   "name": "python",
   "nbconvert_exporter": "python",
   "pygments_lexer": "ipython3",
   "version": "3.11.11"
  }
 },
 "nbformat": 4,
 "nbformat_minor": 5
}
