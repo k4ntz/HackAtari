{
 "cells": [
  {
   "cell_type": "markdown",
   "id": "4a1cb837-dc43-411e-ba07-54154ed4c634",
   "metadata": {},
   "source": [
    "# Automatic Evaluator"
   ]
  },
  {
   "cell_type": "code",
   "execution_count": 2,
   "id": "07a86aeb-77ec-4868-9b9c-67ccfdb189e1",
   "metadata": {},
   "outputs": [],
   "source": [
    "%%capture\n",
    "#########################\n",
    "# Requirements and Imports\n",
    "#########################\n",
    "from os import path\n",
    "import ipywidgets as widgets\n",
    "from pathlib import Path\n",
    "\n",
    "import torch\n",
    "import numpy as np\n",
    "import random"
   ]
  },
  {
   "cell_type": "code",
   "execution_count": 3,
   "id": "2155d626-4e0c-44b1-9ee4-1a424916a69b",
   "metadata": {},
   "outputs": [
    {
     "data": {
      "application/vnd.jupyter.widget-view+json": {
       "model_id": "0f5ba64490374667afac1b8d3b45c709",
       "version_major": 2,
       "version_minor": 0
      },
      "text/plain": [
       "Checkbox(value=True, description='Reproducibility')"
      ]
     },
     "metadata": {},
     "output_type": "display_data"
    }
   ],
   "source": [
    "reproducibility_field = widgets.Checkbox(\n",
    "    value = True,\n",
    "    description = \"Reproducibility\",\n",
    "    disabled = False\n",
    ")\n",
    "display(reproducibility_field)"
   ]
  },
  {
   "cell_type": "code",
   "execution_count": 4,
   "id": "2dfd398b-cdbe-4a1b-a4fc-a2c7d6032028",
   "metadata": {},
   "outputs": [
    {
     "data": {
      "application/vnd.jupyter.widget-view+json": {
       "model_id": "ba4b23b5d6924904acfdb172eb90169b",
       "version_major": 2,
       "version_minor": 0
      },
      "text/plain": [
       "IntText(value=0, description='Seed:')"
      ]
     },
     "metadata": {},
     "output_type": "display_data"
    }
   ],
   "source": [
    "reproducibility = reproducibility_field.value\n",
    "if reproducibility:\n",
    "    seed_field = widgets.IntText(\n",
    "        value=0,\n",
    "        placeholder=0,\n",
    "        description=\"Seed:\",\n",
    "        disabled=False\n",
    "    )\n",
    "    display(seed_field)"
   ]
  },
  {
   "cell_type": "code",
   "execution_count": 5,
   "id": "82c5d65a-e6d0-4bb6-9bfa-10d9ac2df1d5",
   "metadata": {},
   "outputs": [
    {
     "name": "stdout",
     "output_type": "stream",
     "text": [
      "0\n"
     ]
    }
   ],
   "source": [
    "# Set seeds for PRGs\n",
    "\n",
    "reproducibility = reproducibility_field.value\n",
    "if reproducibility:\n",
    "    seed = seed_field.value\n",
    "    print(seed)\n",
    "    \n",
    "    random.seed(seed)\n",
    "    torch.manual_seed(seed)\n",
    "    np.random.seed(seed)\n",
    "    \n",
    "    # Use deterministic Algorithms\n",
    "    torch.use_deterministic_algorithms(True)\n",
    "    torch.utils.deterministic.fill_uninitialized_memory = True"
   ]
  },
  {
   "cell_type": "markdown",
   "id": "22bb008f-3cfa-4020-8fd6-f6180c0b5844",
   "metadata": {
    "editable": true,
    "slideshow": {
     "slide_type": ""
    },
    "tags": []
   },
   "source": [
    "## Game Selection"
   ]
  },
  {
   "cell_type": "code",
   "execution_count": 6,
   "id": "9e239221",
   "metadata": {},
   "outputs": [
    {
     "name": "stdout",
     "output_type": "stream",
     "text": [
      "['Adventure', 'AirRaid', 'Alien', 'Amidar', 'Assault', 'Asterix', 'Asteroids', 'Atlantis', 'BankHeist', 'BattleZone', 'BeamRider', 'Berzerk', 'Bowling', 'Boxing', 'Breakout', 'Carnival', 'Centipede', 'ChopperCommand', 'CrazyClimber', 'DemonAttack', 'DonkeyKong', 'DoubleDunk', 'Enduro', 'FishingDerby', 'Freeway', 'Frogger', 'Frostbite', 'Galaxian', 'Gopher', 'Hero', 'IceHockey', 'Jamesbond', 'Kangaroo', 'KeystoneKapers', 'KingKong', 'Krull', 'KungFuMaster', 'MarioBros', 'MontezumaRevenge', 'MsPacman', 'NameThisGame', 'Pacman', 'Phoenix', 'Pitfall', 'Pong', 'Pooyan', 'PrivateEye', 'Qbert', 'Riverraid', 'RoadRunner', 'Seaquest', 'Skiing', 'SpaceInvaders', 'StarGunner', 'Tennis', 'TimePilot', 'UpNDown', 'Venture', 'VideoPinball', 'YarsRevenge', 'Zaxxon']\n"
     ]
    }
   ],
   "source": [
    "import ocatari\n",
    "all_games = ocatari.core.AVAILABLE_GAMES\n",
    "print(all_games)"
   ]
  },
  {
   "cell_type": "code",
   "execution_count": 7,
   "id": "bd4a5969-bcfc-484f-802a-3df8a8de1763",
   "metadata": {
    "jupyter": {
     "source_hidden": true
    }
   },
   "outputs": [
    {
     "data": {
      "application/vnd.jupyter.widget-view+json": {
       "model_id": "e8271e5e28744b448e39128d0bc5529f",
       "version_major": 2,
       "version_minor": 0
      },
      "text/plain": [
       "Select(description='Game:', index=21, layout=Layout(width='30%'), options=('Amidar', 'Assault', 'Asterix', 'At…"
      ]
     },
     "metadata": {},
     "output_type": "display_data"
    }
   ],
   "source": [
    "hack_games = [x.name.replace('.py', '') for x in Path('../hackatari/games').glob('*.py') if x.is_file() and x.name != '__init__.py']\n",
    "\n",
    "games_option = []\n",
    "for g in all_games:\n",
    "    if g.lower() in hack_games:\n",
    "        games_option.append(g)\n",
    "\n",
    "\n",
    "game_selector = widgets.Select(\n",
    "    options = games_option,\n",
    "    value = \"Pong\",\n",
    "    description = 'Game:',\n",
    "    disabled = False,\n",
    ")\n",
    "game_selector.layout.width = '30%'\n",
    "display(game_selector)"
   ]
  },
  {
   "cell_type": "code",
   "execution_count": 68,
   "id": "94d47732-3147-492e-8db4-746b16b2431b",
   "metadata": {},
   "outputs": [
    {
     "data": {
      "text/plain": [
       "'Seaquest'"
      ]
     },
     "execution_count": 68,
     "metadata": {},
     "output_type": "execute_result"
    }
   ],
   "source": [
    "selected_game = game_selector.value\n",
    "selected_game"
   ]
  },
  {
   "cell_type": "markdown",
   "id": "77a2333c",
   "metadata": {},
   "source": []
  },
  {
   "cell_type": "markdown",
   "id": "4797d52b-ee5a-44c9-ad17-fbf7e9007e1d",
   "metadata": {},
   "source": [
    "# Model Selection"
   ]
  },
  {
   "cell_type": "code",
   "execution_count": null,
   "id": "bf06c346-ff9c-4d6c-8351-119079a4608a",
   "metadata": {},
   "outputs": [
    {
     "data": {
      "application/vnd.jupyter.widget-view+json": {
       "model_id": "daf95118acb642cd8e1f8ee7f12135ed",
       "version_major": 2,
       "version_minor": 0
      },
      "text/plain": [
       "HBox(children=(Text(value='../models', description='Relative Path:', layout=Layout(width='30%'), placeholder='…"
      ]
     },
     "metadata": {},
     "output_type": "display_data"
    },
    {
     "data": {
      "application/vnd.jupyter.widget-view+json": {
       "model_id": "417fc7b23cca4e9f99f3caa8427ab60e",
       "version_major": 2,
       "version_minor": 0
      },
      "text/plain": [
       "Output()"
      ]
     },
     "metadata": {},
     "output_type": "display_data"
    }
   ],
   "source": [
    "from IPython.display import display, clear_output\n",
    "import os\n",
    "\n",
    "model_dir_input = widgets.Text(\n",
    "    value='../models',\n",
    "    placeholder='Enter relative path...',\n",
    "    description='Relative Path:',\n",
    "    disabled=False,\n",
    "    layout={'width': '30%'}\n",
    ")\n",
    "\n",
    "output_area = widgets.Output() #create an output area for feedback\n",
    "\n",
    "def on_button_click(b):\n",
    "    global stored_path_object\n",
    "    with output_area: #capture output into the defined output area\n",
    "        clear_output() #clear previous output\n",
    "        relative_path = model_dir_input.value\n",
    "        \n",
    "        if os.path.exists(relative_path):\n",
    "            print(f\"Path '{relative_path}' exists. Path is stored.\")\n",
    "            stored_path_object = Path(relative_path) #create path object\n",
    "        else:\n",
    "            print(f\"Path '{relative_path}' does not exist. Path is set to None.\")\n",
    "            stored_path_object = None\n",
    "              \n",
    "\n",
    "button = widgets.Button(description=\"Verify Model Path\")\n",
    "button.on_click(on_button_click)\n",
    "\n",
    "input_and_button = widgets.HBox([model_dir_input, button]) # create hbox\n",
    "\n",
    "# Display the widget\n",
    "display(input_and_button, output_area)\n"
   ]
  },
  {
   "cell_type": "code",
   "execution_count": 69,
   "id": "a45eb8fe",
   "metadata": {},
   "outputs": [
    {
     "data": {
      "application/vnd.jupyter.widget-view+json": {
       "model_id": "b61bc6d843e84dd283f7bd3b2b2b8f5d",
       "version_major": 2,
       "version_minor": 0
      },
      "text/plain": [
       "SelectMultiple(description='Select Models', layout=Layout(width='30%'), options=(PosixPath('../models/Seaquest…"
      ]
     },
     "metadata": {},
     "output_type": "display_data"
    }
   ],
   "source": [
    "models = [m for m in stored_path_object.glob('**/*.gz') if m.is_file() and selected_game.lower() in str(m).lower()]\n",
    "\n",
    "model_selector = widgets.SelectMultiple(\n",
    "    options=models,\n",
    "    value=[],\n",
    "    description=\"Select Models\",\n",
    "    display=\"flex\",\n",
    "    flew_flow=\"column\",\n",
    "    align_items=\"stretch\",\n",
    "    style={\"description_width\": \"initial\"},\n",
    "    disabled=False\n",
    ")\n",
    "model_selector.layout.width = '30%'\n",
    "display(model_selector)\n"
   ]
  },
  {
   "cell_type": "code",
   "execution_count": 73,
   "id": "fd341552",
   "metadata": {},
   "outputs": [
    {
     "data": {
      "text/plain": [
       "[PosixPath('../models/Seaquest/2/c51_classic_50M.gz')]"
      ]
     },
     "execution_count": 73,
     "metadata": {},
     "output_type": "execute_result"
    }
   ],
   "source": [
    "models_list = list(model_selector.value)\n",
    "assert models_list, \"Please select at least one model\"\n",
    "models_list"
   ]
  },
  {
   "cell_type": "markdown",
   "id": "23f40362",
   "metadata": {},
   "source": [
    "# Add Run Arguments"
   ]
  },
  {
   "cell_type": "markdown",
   "id": "5a3894e5",
   "metadata": {},
   "source": [
    "### load available modfications and selection"
   ]
  },
  {
   "cell_type": "code",
   "execution_count": 24,
   "id": "fd1e3323",
   "metadata": {},
   "outputs": [
    {
     "data": {
      "application/vnd.jupyter.widget-view+json": {
       "model_id": "d1397bf8ab334030becfdc4fcc8395d6",
       "version_major": 2,
       "version_minor": 0
      },
      "text/plain": [
       "VBox(children=(HBox(children=(Label(value=' ball_x_prev', layout=Layout(width='10%')), Label(value=\"\\n\\tint([x…"
      ]
     },
     "metadata": {},
     "output_type": "display_data"
    }
   ],
   "source": [
    "import hackatari.core as core\n",
    "\n",
    "avail_mod_for_game = core._available_modifications(selected_game).split('*')[1:]\n",
    "modifies_list = [mod.split(':') for mod in avail_mod_for_game]\n",
    "\n",
    "modifies_selector = widgets.VBox([\n",
    "        widgets.HBox([\n",
    "            widgets.Label(value=mod_name, layout={'width': '10%'}),\n",
    "            widgets.Label(value=mod_info, layout={'width': '50%'}),\n",
    "            widgets.Dropdown(options=[True, False], value=False, description='Value:',layout={'width': '15%'}, justify_content = 'flex-end')\n",
    "        ], justify_content = 'space-between') for mod_name, mod_info in modifies_list\n",
    "    ], layout={'width': '75%'})\n",
    "\n",
    "display(modifies_selector)"
   ]
  },
  {
   "cell_type": "code",
   "execution_count": 25,
   "id": "56c46c81",
   "metadata": {},
   "outputs": [],
   "source": [
    "mod_args = ' '.join([f'{mod.children[0].value.strip()}' for mod in modifies_selector.children if mod.children[2].value])\n",
    "if mod_args:\n",
    "    mod_args = f'-m {mod_args}'"
   ]
  },
  {
   "cell_type": "markdown",
   "id": "3b1817e3",
   "metadata": {},
   "source": [
    "### Setup other arguments for executing commands"
   ]
  },
  {
   "cell_type": "code",
   "execution_count": 70,
   "id": "6dc8e4af",
   "metadata": {},
   "outputs": [
    {
     "data": {
      "application/vnd.jupyter.widget-view+json": {
       "model_id": "2678a73ac2f34d9f81ea72a5d843b76b",
       "version_major": 2,
       "version_minor": 0
      },
      "text/plain": [
       "VBox(children=(Label(value=\"For the selected game 'Seaquest':\"), HBox(children=(Dropdown(description='game mod…"
      ]
     },
     "metadata": {},
     "output_type": "display_data"
    }
   ],
   "source": [
    "from ocatari.core import OCAtari\n",
    "# parameters: difficulty and game_mode\n",
    "g = OCAtari(selected_game)\n",
    "\n",
    "game_text = widgets.Label  (\n",
    "    value=f\"For the selected game '{selected_game}':\",\n",
    "    disabled=False\n",
    ")\n",
    "\n",
    "mode_dropdown = widgets.Dropdown(\n",
    "    options=g.env.env.ale.getAvailableModes(),\n",
    "    value=0,\n",
    "    description='game mode:',\n",
    "    disabled=False,\n",
    "    layout = {'width':'10%'}\n",
    ")\n",
    "\n",
    "difficulty_dropdown = widgets.Dropdown(\n",
    "    options=g.env.env.ale.getAvailableDifficulties(),\n",
    "    value=0,\n",
    "    description='difficulty:',\n",
    "    disabled=False,\n",
    "    layout = {'width':'10%'}\n",
    ")\n",
    "\n",
    "g.close()\n",
    "\n",
    "\n",
    "dp_dropdown = widgets.Dropdown(\n",
    "    options=[True, False],\n",
    "    value=False,\n",
    "    description='dopamine_pooling:',\n",
    "    style={'description_width': 'initial'},\n",
    "    #layout=widgets.Layout(width='300px'),\n",
    "    disabled=False,\n",
    "    layout = {'width':'15%'}\n",
    ")\n",
    "\n",
    "window_inttext = widgets.IntText(\n",
    "    value=4,\n",
    "    description='window_size:',\n",
    "    style={'description_width': 'initial'},\n",
    "    layout=widgets.Layout(width='120px'),\n",
    "    disabled=False,\n",
    "    #layout = {'width':'10%'}\n",
    ")\n",
    "\n",
    "frameskip_inttext = widgets.IntText(\n",
    "    value=4,\n",
    "    description='frameskip:',\n",
    "    disabled=False,\n",
    "    layout=widgets.Layout(width='120px'),\n",
    "    #layout = {'width':'10%'}\n",
    ")\n",
    "\n",
    "has_dqn_model = any([ (\"dqn\" in model.as_posix() or \"c51\" in model.as_posix()) for model in models_list])\n",
    "\n",
    "obs_dropdown = widgets.Dropdown(\n",
    "    options=['dqn'] if has_dqn_model else ['dqn', 'ori', 'obj'],\n",
    "    value='dqn',\n",
    "    description='obs_mode:',\n",
    "    disabled=False,\n",
    "    layout = {'width':'10%'}\n",
    ")\n",
    "\n",
    "episodes_inttext = widgets.IntText(\n",
    "    value=10,\n",
    "    description='num_episodes:',\n",
    "    style={'description_width': 'initial'},\n",
    "    layout=widgets.Layout(width='150px'),\n",
    "    disabled=False,\n",
    "    #layout = {'width':'10%'}\n",
    ")\n",
    "\n",
    "parameters_selector =  widgets.VBox( [game_text, \n",
    "                                     widgets.HBox([mode_dropdown, difficulty_dropdown, dp_dropdown, window_inttext, frameskip_inttext, obs_dropdown, episodes_inttext],\n",
    "                                                  justify_content = 'space-between', layout = {'width':'100%'})\n",
    "])\n",
    "\n",
    "# Display the widgets\n",
    "display(parameters_selector)\n",
    "\n"
   ]
  },
  {
   "cell_type": "code",
   "execution_count": 71,
   "id": "2a9d0212",
   "metadata": {},
   "outputs": [
    {
     "name": "stdout",
     "output_type": "stream",
     "text": [
      " -mo 0 -d 0 -dp -w 4 -f 4 -obs dqn\n"
     ]
    }
   ],
   "source": [
    "stored_parameter = \"\"\n",
    "stored_parameter += f\" -mo {mode_dropdown.value}\"\n",
    "stored_parameter += f\" -d {difficulty_dropdown.value}\"\n",
    "stored_parameter += \" -dp\" if dp_dropdown.value else \"\"\n",
    "stored_parameter += f\" -w {window_inttext.value}\"\n",
    "stored_parameter += f\" -f {frameskip_inttext.value}\"\n",
    "stored_parameter += f\" -obs {obs_dropdown.value}\" if obs_dropdown.value else \"\"\n",
    "\n",
    "print(stored_parameter)\n",
    "\n",
    "eval_parameter = f\" -e {episodes_inttext.value}\""
   ]
  },
  {
   "cell_type": "markdown",
   "id": "46b96acf-2684-478f-8ad2-c3f435dd12de",
   "metadata": {},
   "source": [
    "# Run Game"
   ]
  },
  {
   "cell_type": "markdown",
   "id": "fe63de92",
   "metadata": {},
   "source": [
    "### Excuate the command with eval.py"
   ]
  },
  {
   "cell_type": "code",
   "execution_count": 64,
   "id": "ce1f14b4",
   "metadata": {},
   "outputs": [
    {
     "name": "stdout",
     "output_type": "stream",
     "text": [
      "Project Root: /mnt/c/Users/peng_/workspace/HackAtari\n",
      "eval command: python /mnt/c/Users/peng_/workspace/HackAtari/scripts/eval.py -g Pong -a ../models/Pong/0/dqn_modern_50M.gz -m jump_enemy  -mo 0 -d 0 -dp -w 4 -f 4 -obs dqn  -e 10\n",
      "A.L.E: Arcade Learning Environment (version 0.10.2+c9d4b19)\n",
      "[Powered by Stella]\n",
      "Runing for episodes: 10\n",
      "Loaded agent from ../models/Pong/0/dqn_modern_50M.gz\n",
      "Episode 1: Reward = 20.0, Time = 3.22 seconds with 2307 steps and actions: {0: 464, 1: 74, 2: 223, 3: 1055, 4: 126, 5: 365}\n",
      "Episode 2: Reward = 14.0, Time = 3.51 seconds with 2714 steps and actions: {0: 495, 1: 106, 2: 321, 3: 1141, 4: 157, 5: 494}\n",
      "Episode 3: Reward = 17.0, Time = 2.89 seconds with 2286 steps and actions: {0: 452, 1: 81, 2: 224, 3: 1036, 4: 128, 5: 365}\n",
      "Episode 4: Reward = 18.0, Time = 3.27 seconds with 2529 steps and actions: {0: 496, 1: 96, 2: 256, 3: 1086, 4: 154, 5: 441}\n",
      "Episode 5: Reward = 14.0, Time = 3.60 seconds with 2823 steps and actions: {0: 528, 1: 86, 2: 311, 3: 1179, 4: 240, 5: 479}\n",
      "Episode 6: Reward = 21.0, Time = 2.14 seconds with 1648 steps and actions: {0: 334, 1: 38, 2: 130, 3: 797, 4: 56, 5: 293}\n",
      "Episode 7: Reward = 13.0, Time = 3.32 seconds with 2594 steps and actions: {0: 491, 1: 109, 2: 307, 3: 1076, 4: 216, 5: 395}\n",
      "Episode 8: Reward = 18.0, Time = 2.94 seconds with 2360 steps and actions: {0: 459, 1: 81, 2: 253, 3: 1030, 4: 183, 5: 354}\n",
      "Episode 9: Reward = 13.0, Time = 3.51 seconds with 2782 steps and actions: {0: 556, 1: 92, 2: 293, 3: 1143, 4: 200, 5: 498}\n",
      "Episode 10: Reward = 19.0, Time = 2.35 seconds with 1863 steps and actions: {0: 415, 1: 49, 2: 165, 3: 857, 4: 94, 5: 283}\n",
      "\n",
      "Summary:\n",
      "Agent: ../models/Pong/0/dqn_modern_50M.gz\n",
      "Total Episodes: 10\n",
      "Average Reward: 16.70\n",
      "Reward Standard Deviation: 2.83\n",
      "Min Reward: 13.0\n",
      "Max Reward: 21.0\n",
      "Average Time: 3.07 seconds\n",
      "Time Standard Deviation: 0.47 seconds\n",
      "Min Time: 2.14 seconds\n",
      "Max Step: 3.60 seconds\n",
      "Average Step: 2390.60 steps\n",
      "Step Standard Deviation: 367.96 steps\n",
      "Min Step: 1648 steps\n",
      "Max Step: 2823 steps\n",
      "--------------------------------------\n",
      "------------------------------------------------\n",
      "Overall Average Reward: 16.70, Time: 3.07 seconds and 2390.60 steps\n",
      "Overall Reward Standard Deviation: 2.83, Time Standard Deviation: 0.47 seconds, Step Standard Deviation: 367.96\n",
      "------------------------------------------------\n"
     ]
    }
   ],
   "source": [
    "## prepare the command\n",
    "eval_script = Path(r\"scripts/eval.py\")\n",
    "run_script = Path(r\"scripts/run.py\")\n",
    "\n",
    "notebook_dir = path.abspath(\"\")\n",
    "project_root = path.dirname(notebook_dir)\n",
    "print(f\"Project Root: {project_root}\")\n",
    "\n",
    "# use posix_paths compatibile with the OS\n",
    "eval_path = (Path(project_root) / eval_script).as_posix()\n",
    "run_path = (Path(project_root) / run_script).as_posix()\n",
    "\n",
    "models_path = ' '.join( f'{model.as_posix()}' for model in models_list )\n",
    "\n",
    "\n",
    "eval_command = f\"python {eval_path} -g {selected_game} -a {models_path} {mod_args} {stored_parameter} {eval_parameter}\"\n",
    "\n",
    "print(\"eval command: \" + eval_command)\n",
    "\n",
    "!{eval_command}"
   ]
  },
  {
   "cell_type": "markdown",
   "id": "a243c5f3",
   "metadata": {},
   "source": [
    "### Execute the command with run.py"
   ]
  },
  {
   "cell_type": "markdown",
   "id": "beea0b9c",
   "metadata": {},
   "source": []
  },
  {
   "cell_type": "code",
   "execution_count": 74,
   "id": "30b9ea05",
   "metadata": {},
   "outputs": [
    {
     "name": "stdout",
     "output_type": "stream",
     "text": [
      "run command: python /mnt/c/Users/peng_/workspace/HackAtari/scripts/run.py -g Seaquest -a ../models/Seaquest/2/c51_classic_50M.gz -m jump_enemy  -mo 0 -d 0 -dp -w 4 -f 4 -obs dqn\n",
      "A.L.E: Arcade Learning Environment (version 0.10.2+c9d4b19)\n",
      "[Powered by Stella]\n",
      "Loaded agent from ../models/Seaquest/2/c51_classic_50M.gz\n"
     ]
    }
   ],
   "source": [
    "# try with \"run.py\" instead of \"eval.py\"\n",
    "assert len(models_list) > 0, \"Please select at least one model\"\n",
    "models_path = f'{models_list[0].as_posix()}'\n",
    "\n",
    "run_command = f\"python {run_path} -g {selected_game} -a {models_path} {mod_args} {stored_parameter}\"\n",
    "print(\"run command: \" + run_command)\n",
    "\n",
    "!{run_command}"
   ]
  },
  {
   "cell_type": "markdown",
   "id": "9172756d-9aaa-4214-8d8d-2dfe8a6264c8",
   "metadata": {},
   "source": [
    "# Evaluation"
   ]
  },
  {
   "cell_type": "code",
   "execution_count": null,
   "id": "cb732699-43e9-4ccb-b8c8-aac2f843e3c1",
   "metadata": {},
   "outputs": [],
   "source": [
    "# add automatic_evaluator module to the path\n",
    "import os\n",
    "import sys\n",
    "module_path = os.path.abspath(os.path.join('..'))\n",
    "if module_path not in sys.path:\n",
    "    sys.path.append(module_path)\n",
    "    "
   ]
  },
  {
   "cell_type": "markdown",
   "id": "bd324348",
   "metadata": {},
   "source": [
    "### Test with all subsets of selected modifs. Trace all runs with AIM-UI"
   ]
  },
  {
   "cell_type": "code",
   "execution_count": null,
   "id": "5bdf8851",
   "metadata": {},
   "outputs": [],
   "source": [
    "from itertools import combinations\n",
    "mod_list = mod_args.split(\" \")\n",
    "\n",
    "#mod_list = ['A','B','C']\n",
    "\n",
    "# return all non-emtpy subsets\n",
    "def subsets(fullset):    \n",
    "    result = []\n",
    "    for i in range(1, len(fullset) + 1):\n",
    "        tmp = [ list(c) for c in combinations(fullset, i) ]\n",
    "        result += tmp\n",
    "        \n",
    "    return result\n",
    "\n",
    "mod_sublists = subsets(mod_list)\n",
    "\n",
    "print(mod_sublists)"
   ]
  },
  {
   "cell_type": "code",
   "execution_count": null,
   "id": "5fd14b81",
   "metadata": {},
   "outputs": [],
   "source": [
    "%reload_ext aim\n",
    "\n",
    "!aim init -y # it will re-initialize empty aim repo.\n",
    "\n",
    "%aim up"
   ]
  },
  {
   "cell_type": "code",
   "execution_count": null,
   "id": "2557aaac",
   "metadata": {},
   "outputs": [],
   "source": [
    "%reload_ext autoreload\n",
    "\n",
    "%autoreload 1\n",
    "\n",
    "%aimport utils\n",
    "\n",
    "# agent_paths = [model.as_posix() for model in models_list]\n",
    "# for agent_path in agent_paths:\n",
    "#     agent_name = \"/\".join(agent_path.split(\"/\")[-2:])\n",
    "#     print(agent_name)\n",
    "        \n",
    "for modifs in mod_sublists:\n",
    "    utils.eval_withAimRun(selected_game, [ model.as_posix() for model in models_list], modifs)\n"
   ]
  }
 ],
 "metadata": {
  "kernelspec": {
   "display_name": "venv",
   "language": "python",
   "name": "python3"
  },
  "language_info": {
   "codemirror_mode": {
    "name": "ipython",
    "version": 3
   },
   "file_extension": ".py",
   "mimetype": "text/x-python",
   "name": "python",
   "nbconvert_exporter": "python",
   "pygments_lexer": "ipython3",
   "version": "3.11.11"
  }
 },
 "nbformat": 4,
 "nbformat_minor": 5
}
