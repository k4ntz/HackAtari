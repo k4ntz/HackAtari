{
 "cells": [
  {
   "cell_type": "markdown",
   "id": "4a1cb837-dc43-411e-ba07-54154ed4c634",
   "metadata": {},
   "source": [
    "# Evaluator with more manual steps"
   ]
  },
  {
   "cell_type": "code",
   "execution_count": 1,
   "id": "07a86aeb-77ec-4868-9b9c-67ccfdb189e1",
   "metadata": {},
   "outputs": [],
   "source": [
    "%%capture\n",
    "#########################\n",
    "# Requirements and Imports\n",
    "#########################\n",
    "from os import path\n",
    "import ipywidgets as widgets\n",
    "from pathlib import Path\n",
    "\n",
    "import torch\n",
    "import numpy as np\n",
    "import random"
   ]
  },
  {
   "cell_type": "markdown",
   "id": "6142cad3",
   "metadata": {},
   "source": [
    "## Reproducibility"
   ]
  },
  {
   "cell_type": "code",
   "execution_count": 2,
   "id": "2155d626-4e0c-44b1-9ee4-1a424916a69b",
   "metadata": {},
   "outputs": [
    {
     "data": {
      "application/vnd.jupyter.widget-view+json": {
       "model_id": "488d22fcb0bb4e7da251dc31f9636f80",
       "version_major": 2,
       "version_minor": 0
      },
      "text/plain": [
       "Checkbox(value=True, description='Reproducibility')"
      ]
     },
     "metadata": {},
     "output_type": "display_data"
    }
   ],
   "source": [
    "reproducibility_field = widgets.Checkbox(\n",
    "    value = True,\n",
    "    description = \"Reproducibility\",\n",
    "    disabled = False\n",
    ")\n",
    "display(reproducibility_field)"
   ]
  },
  {
   "cell_type": "code",
   "execution_count": 3,
   "id": "2dfd398b-cdbe-4a1b-a4fc-a2c7d6032028",
   "metadata": {},
   "outputs": [
    {
     "data": {
      "application/vnd.jupyter.widget-view+json": {
       "model_id": "89275e6c43614c87b2ccf8c34bfba3f3",
       "version_major": 2,
       "version_minor": 0
      },
      "text/plain": [
       "IntText(value=0, description='Seed:')"
      ]
     },
     "metadata": {},
     "output_type": "display_data"
    }
   ],
   "source": [
    "reproducibility = reproducibility_field.value\n",
    "if reproducibility:\n",
    "    seed_field = widgets.IntText(\n",
    "        value=0,\n",
    "        placeholder=0,\n",
    "        description=\"Seed:\",\n",
    "        disabled=False\n",
    "    )\n",
    "    display(seed_field)"
   ]
  },
  {
   "cell_type": "code",
   "execution_count": 23,
   "id": "82c5d65a-e6d0-4bb6-9bfa-10d9ac2df1d5",
   "metadata": {},
   "outputs": [
    {
     "name": "stdout",
     "output_type": "stream",
     "text": [
      "0\n"
     ]
    }
   ],
   "source": [
    "# Set seeds for PRGs\n",
    "\n",
    "reproducibility = reproducibility_field.value\n",
    "if reproducibility:\n",
    "    seed = seed_field.value\n",
    "    print(seed)\n",
    "    \n",
    "    random.seed(seed)\n",
    "    torch.manual_seed(seed)\n",
    "    np.random.seed(seed)\n",
    "    \n",
    "    # Use deterministic Algorithms\n",
    "    torch.use_deterministic_algorithms(True)\n",
    "    torch.utils.deterministic.fill_uninitialized_memory = True"
   ]
  },
  {
   "cell_type": "markdown",
   "id": "22bb008f-3cfa-4020-8fd6-f6180c0b5844",
   "metadata": {
    "editable": true,
    "slideshow": {
     "slide_type": ""
    },
    "tags": []
   },
   "source": [
    "## Game Selection"
   ]
  },
  {
   "cell_type": "code",
   "execution_count": 5,
   "id": "9e239221",
   "metadata": {},
   "outputs": [
    {
     "name": "stdout",
     "output_type": "stream",
     "text": [
      "['Adventure', 'AirRaid', 'Alien', 'Amidar', 'Assault', 'Asterix', 'Asteroids', 'Atlantis', 'BankHeist', 'BattleZone', 'BeamRider', 'Berzerk', 'Bowling', 'Boxing', 'Breakout', 'Carnival', 'Centipede', 'ChopperCommand', 'CrazyClimber', 'DemonAttack', 'DonkeyKong', 'DoubleDunk', 'Enduro', 'FishingDerby', 'Freeway', 'Frogger', 'Frostbite', 'Galaxian', 'Gopher', 'Hero', 'IceHockey', 'Jamesbond', 'Kangaroo', 'KeystoneKapers', 'KingKong', 'Krull', 'KungFuMaster', 'MarioBros', 'MontezumaRevenge', 'MsPacman', 'NameThisGame', 'Pacman', 'Phoenix', 'Pitfall', 'Pong', 'Pooyan', 'PrivateEye', 'Qbert', 'Riverraid', 'RoadRunner', 'Seaquest', 'Skiing', 'SpaceInvaders', 'StarGunner', 'Tennis', 'TimePilot', 'UpNDown', 'Venture', 'VideoPinball', 'YarsRevenge', 'Zaxxon']\n"
     ]
    }
   ],
   "source": [
    "import ocatari\n",
    "all_games = ocatari.core.AVAILABLE_GAMES\n",
    "print(all_games)"
   ]
  },
  {
   "cell_type": "code",
   "execution_count": 6,
   "id": "bd4a5969-bcfc-484f-802a-3df8a8de1763",
   "metadata": {
    "jupyter": {
     "source_hidden": true
    }
   },
   "outputs": [
    {
     "data": {
      "application/vnd.jupyter.widget-view+json": {
       "model_id": "6a42f95bac4b43ce847b28469ef71c22",
       "version_major": 2,
       "version_minor": 0
      },
      "text/plain": [
       "Select(description='Game:', index=21, layout=Layout(width='30%'), options=('Amidar', 'Assault', 'Asterix', 'At…"
      ]
     },
     "metadata": {},
     "output_type": "display_data"
    }
   ],
   "source": [
    "hack_games = [x.name.replace('.py', '') for x in Path('../hackatari/games').glob('*.py') if x.is_file() and x.name != '__init__.py']\n",
    "\n",
    "games_option = []\n",
    "for g in all_games:\n",
    "    if g.lower() in hack_games:\n",
    "        games_option.append(g)\n",
    "\n",
    "\n",
    "game_selector = widgets.Select(\n",
    "    options = games_option,\n",
    "    value = \"Pong\",\n",
    "    description = 'Game:',\n",
    "    disabled = False,\n",
    ")\n",
    "game_selector.layout.width = '30%'\n",
    "display(game_selector)"
   ]
  },
  {
   "cell_type": "code",
   "execution_count": 17,
   "id": "94d47732-3147-492e-8db4-746b16b2431b",
   "metadata": {},
   "outputs": [
    {
     "data": {
      "text/plain": [
       "'Seaquest'"
      ]
     },
     "execution_count": 17,
     "metadata": {},
     "output_type": "execute_result"
    }
   ],
   "source": [
    "selected_game = game_selector.value\n",
    "selected_game"
   ]
  },
  {
   "cell_type": "markdown",
   "id": "77a2333c",
   "metadata": {},
   "source": []
  },
  {
   "cell_type": "markdown",
   "id": "4797d52b-ee5a-44c9-ad17-fbf7e9007e1d",
   "metadata": {},
   "source": [
    "# Model Selection"
   ]
  },
  {
   "cell_type": "code",
   "execution_count": null,
   "id": "bf06c346-ff9c-4d6c-8351-119079a4608a",
   "metadata": {},
   "outputs": [
    {
     "data": {
      "application/vnd.jupyter.widget-view+json": {
       "model_id": "2f181e632a7b4c60aa718362b7a51d08",
       "version_major": 2,
       "version_minor": 0
      },
      "text/plain": [
       "HBox(children=(Text(value='../models', description='Relative Path:', layout=Layout(width='30%'), placeholder='…"
      ]
     },
     "metadata": {},
     "output_type": "display_data"
    },
    {
     "data": {
      "application/vnd.jupyter.widget-view+json": {
       "model_id": "4ae554acec82423d984b5bf64ca44fca",
       "version_major": 2,
       "version_minor": 0
      },
      "text/plain": [
       "Output()"
      ]
     },
     "metadata": {},
     "output_type": "display_data"
    }
   ],
   "source": [
    "from IPython.display import display, clear_output\n",
    "import os\n",
    "\n",
    "model_dir_input = widgets.Text(\n",
    "    value='../models',\n",
    "    placeholder='Enter relative path...',\n",
    "    description='Relative Path:',\n",
    "    disabled=False,\n",
    "    layout={'width': '30%'}\n",
    ")\n",
    "\n",
    "output_area = widgets.Output() #create an output area for feedback\n",
    "\n",
    "def on_button_click(b):\n",
    "    global stored_path_object\n",
    "    with output_area: #capture output into the defined output area\n",
    "        clear_output() #clear previous output\n",
    "        relative_path = model_dir_input.value\n",
    "        \n",
    "        if os.path.exists(relative_path):\n",
    "            print(f\"Path '{relative_path}' exists. Path is stored.\")\n",
    "            stored_path_object = Path(relative_path) #create path object\n",
    "        else:\n",
    "            print(f\"Path '{relative_path}' does not exist. Path is set to None.\")\n",
    "            stored_path_object = None\n",
    "              \n",
    "\n",
    "button = widgets.Button(description=\"Verify Model Path\")\n",
    "button.on_click(on_button_click)\n",
    "\n",
    "input_and_button = widgets.HBox([model_dir_input, button]) # create hbox\n",
    "\n",
    "# Display the widget\n",
    "display(input_and_button, output_area)\n"
   ]
  },
  {
   "cell_type": "code",
   "execution_count": 43,
   "id": "a45eb8fe",
   "metadata": {},
   "outputs": [
    {
     "data": {
      "application/vnd.jupyter.widget-view+json": {
       "model_id": "35a784ee5edd4536832a04f5f70cbf52",
       "version_major": 2,
       "version_minor": 0
      },
      "text/plain": [
       "SelectMultiple(description='Select Models', layout=Layout(width='30%'), options=(PosixPath('../models/Seaquest…"
      ]
     },
     "metadata": {},
     "output_type": "display_data"
    }
   ],
   "source": [
    "models = []\n",
    "for model_pattern in [f'{selected_game}/**/*.gz']: # seems not support f'{selected_game}/**/*.*model' yet\n",
    "    models.extend(stored_path_object.glob(model_pattern))\n",
    "\n",
    "if len(models) == 0:\n",
    "    print(f\"No models found for game '{selected_game}'.\")\n",
    "else:\n",
    "    models.sort()\n",
    "    model_selector = widgets.SelectMultiple(\n",
    "        options=models,\n",
    "        value=[],\n",
    "        description=\"Select Models\",\n",
    "        display=\"flex\",\n",
    "        flew_flow=\"column\",\n",
    "        align_items=\"stretch\",\n",
    "        style={\"description_width\": \"initial\"},\n",
    "        disabled=False\n",
    "    )\n",
    "    model_selector.layout.width = '30%'\n",
    "    display(model_selector)\n"
   ]
  },
  {
   "cell_type": "code",
   "execution_count": 45,
   "id": "fd341552",
   "metadata": {},
   "outputs": [
    {
     "data": {
      "text/plain": [
       "[PosixPath('../models/Seaquest/1/mdqn_modern_50M.gz')]"
      ]
     },
     "execution_count": 45,
     "metadata": {},
     "output_type": "execute_result"
    }
   ],
   "source": [
    "models_list = list(model_selector.value)\n",
    "assert models_list, \"Please select at least one model\"\n",
    "models_list"
   ]
  },
  {
   "cell_type": "markdown",
   "id": "23f40362",
   "metadata": {},
   "source": [
    "# Setup commands arguments"
   ]
  },
  {
   "cell_type": "markdown",
   "id": "5a3894e5",
   "metadata": {},
   "source": [
    "### Load and select available modfications"
   ]
  },
  {
   "cell_type": "code",
   "execution_count": 46,
   "id": "fd1e3323",
   "metadata": {},
   "outputs": [
    {
     "data": {
      "application/vnd.jupyter.widget-view+json": {
       "model_id": "27a83fa49cf6497ebc746fa38e2b6753",
       "version_major": 2,
       "version_minor": 0
      },
      "text/plain": [
       "VBox(children=(HBox(children=(Label(value=' disable_enemies', layout=Layout(width='10%')), Label(value='\\n\\tDi…"
      ]
     },
     "metadata": {},
     "output_type": "display_data"
    }
   ],
   "source": [
    "import hackatari.core as core\n",
    "\n",
    "avail_mod_for_game = core._available_modifications(selected_game).split('*')[1:]\n",
    "modifies_list = [mod.split(':') for mod in avail_mod_for_game]\n",
    "\n",
    "modifies_selector = widgets.VBox([\n",
    "        widgets.HBox([\n",
    "            widgets.Label(value=mod_name, layout={'width': '10%'}),\n",
    "            widgets.Label(value=mod_info, layout={'width': '50%'}),\n",
    "            widgets.Dropdown(options=[True, False], value=False, description='Value:',layout={'width': '15%'}, justify_content = 'flex-end')\n",
    "        ], justify_content = 'space-between') for mod_name, mod_info in modifies_list\n",
    "    ], layout={'width': '75%'})\n",
    "\n",
    "display(modifies_selector)"
   ]
  },
  {
   "cell_type": "code",
   "execution_count": 47,
   "id": "56c46c81",
   "metadata": {},
   "outputs": [],
   "source": [
    "mod_args = ' '.join([f'{mod.children[0].value.strip()}' for mod in modifies_selector.children if mod.children[2].value])\n",
    "if mod_args:\n",
    "    mod_args = f'-m {mod_args}'"
   ]
  },
  {
   "cell_type": "markdown",
   "id": "3b1817e3",
   "metadata": {},
   "source": [
    "### Setup other arguments for executing commands"
   ]
  },
  {
   "cell_type": "code",
   "execution_count": 48,
   "id": "6dc8e4af",
   "metadata": {},
   "outputs": [
    {
     "data": {
      "application/vnd.jupyter.widget-view+json": {
       "model_id": "f59848f74eeb4cb0abd90d8404d4e5db",
       "version_major": 2,
       "version_minor": 0
      },
      "text/plain": [
       "VBox(children=(Label(value=\"For the selected game 'Seaquest':\"), HBox(children=(Dropdown(description='game mod…"
      ]
     },
     "metadata": {},
     "output_type": "display_data"
    }
   ],
   "source": [
    "from ocatari.core import OCAtari\n",
    "# parameters: difficulty and game_mode\n",
    "g = OCAtari(selected_game)\n",
    "\n",
    "game_text = widgets.Label  (\n",
    "    value=f\"For the selected game '{selected_game}':\",\n",
    "    disabled=False\n",
    ")\n",
    "\n",
    "mode_dropdown = widgets.Dropdown(\n",
    "    options=g.env.env.ale.getAvailableModes(),\n",
    "    value=0,\n",
    "    description='game mode:',\n",
    "    disabled=False,\n",
    "    layout = {'width':'10%'}\n",
    ")\n",
    "\n",
    "difficulty_dropdown = widgets.Dropdown(\n",
    "    options=g.env.env.ale.getAvailableDifficulties(),\n",
    "    value=0,\n",
    "    description='difficulty:',\n",
    "    disabled=False,\n",
    "    layout = {'width':'10%'}\n",
    ")\n",
    "\n",
    "g.close()\n",
    "\n",
    "\n",
    "dp_dropdown = widgets.Dropdown(\n",
    "    options=[True, False],\n",
    "    value=False,\n",
    "    description='dopamine_pooling:',\n",
    "    style={'description_width': 'initial'},\n",
    "    #layout=widgets.Layout(width='300px'),\n",
    "    disabled=False,\n",
    "    layout = {'width':'15%'}\n",
    ")\n",
    "\n",
    "window_inttext = widgets.IntText(\n",
    "    value=4,\n",
    "    description='window_size:',\n",
    "    style={'description_width': 'initial'},\n",
    "    layout=widgets.Layout(width='120px'),\n",
    "    disabled=False,\n",
    "    #layout = {'width':'10%'}\n",
    ")\n",
    "\n",
    "frameskip_inttext = widgets.IntText(\n",
    "    value=4,\n",
    "    description='frameskip:',\n",
    "    disabled=False,\n",
    "    layout=widgets.Layout(width='120px'),\n",
    "    #layout = {'width':'10%'}\n",
    ")\n",
    "\n",
    "has_dqn_model = any([ (\"dqn\" in model.as_posix() or \"c51\" in model.as_posix()) for model in models_list])\n",
    "\n",
    "obs_dropdown = widgets.Dropdown(\n",
    "    options=['dqn'] if has_dqn_model else ['ori', 'obj'],\n",
    "    value='dqn',\n",
    "    description='obs_mode:',\n",
    "    disabled=False,\n",
    "    layout = {'width':'10%'}\n",
    ")\n",
    "\n",
    "episodes_inttext = widgets.IntText(\n",
    "    value=10,\n",
    "    description='num_episodes:',\n",
    "    style={'description_width': 'initial'},\n",
    "    layout=widgets.Layout(width='150px'),\n",
    "    disabled=False,\n",
    "    #layout = {'width':'10%'}\n",
    ")\n",
    "\n",
    "parameters_selector =  widgets.VBox( [game_text, \n",
    "                                     widgets.HBox([mode_dropdown, difficulty_dropdown, dp_dropdown, window_inttext, frameskip_inttext, obs_dropdown, episodes_inttext],\n",
    "                                                  justify_content = 'space-between', layout = {'width':'100%'})\n",
    "])\n",
    "\n",
    "# Display the widgets\n",
    "display(parameters_selector)\n",
    "\n"
   ]
  },
  {
   "cell_type": "code",
   "execution_count": 49,
   "id": "2a9d0212",
   "metadata": {},
   "outputs": [
    {
     "name": "stdout",
     "output_type": "stream",
     "text": [
      " -mo 0 -d 0 -w 4 -f 4 -obs dqn\n"
     ]
    }
   ],
   "source": [
    "stored_parameter = \"\"\n",
    "stored_parameter += f\" -mo {mode_dropdown.value}\"\n",
    "stored_parameter += f\" -d {difficulty_dropdown.value}\"\n",
    "stored_parameter += \" -dp\" if dp_dropdown.value else \"\"\n",
    "stored_parameter += f\" -w {window_inttext.value}\"\n",
    "stored_parameter += f\" -f {frameskip_inttext.value}\"\n",
    "stored_parameter += f\" -obs {obs_dropdown.value}\" if obs_dropdown.value else \"\"\n",
    "\n",
    "print(stored_parameter)\n",
    "\n",
    "eval_parameter = f\" -e {episodes_inttext.value}\""
   ]
  },
  {
   "cell_type": "markdown",
   "id": "95e50389",
   "metadata": {},
   "source": [
    "# Run Game"
   ]
  },
  {
   "cell_type": "code",
   "execution_count": 52,
   "id": "f9d54092",
   "metadata": {},
   "outputs": [
    {
     "name": "stdout",
     "output_type": "stream",
     "text": [
      "Project Root: /mnt/c/Users/peng_/workspace/HackAtari\n"
     ]
    }
   ],
   "source": [
    "## prepare for the command\n",
    "eval_script = Path(r\"scripts/eval.py\")\n",
    "run_script = Path(r\"scripts/run.py\")\n",
    "\n",
    "notebook_dir = path.abspath(\"\")\n",
    "project_root = path.dirname(notebook_dir)\n",
    "print(f\"Project Root: {project_root}\")\n",
    "\n",
    "# use posix_paths for compatibile with different OS\n",
    "eval_path = (Path(project_root) / eval_script).as_posix()\n",
    "run_path = (Path(project_root) / run_script).as_posix()"
   ]
  },
  {
   "cell_type": "markdown",
   "id": "fe63de92",
   "metadata": {},
   "source": [
    "### Execuate the command with eval.py"
   ]
  },
  {
   "cell_type": "code",
   "execution_count": null,
   "id": "ce1f14b4",
   "metadata": {},
   "outputs": [
    {
     "name": "stdout",
     "output_type": "stream",
     "text": [
      "Project Root: /mnt/c/Users/peng_/workspace/HackAtari\n",
      "eval command: python /mnt/c/Users/peng_/workspace/HackAtari/scripts/eval.py -g Seaquest -a ../models/Seaquest/1/mdqn_modern_50M.gz   -mo 0 -d 0 -w 4 -f 4 -obs dqn  -e 10\n",
      "A.L.E: Arcade Learning Environment (version 0.10.2+c9d4b19)\n",
      "[Powered by Stella]\n",
      "Runing for episodes: 10\n",
      "Loaded agent from ../models/Seaquest/1/mdqn_modern_50M.gz\n",
      "Episode 1: Reward = 13650.0, Time = 3.08 seconds with 2407 steps and actions: {0: 47, 1: 39, 2: 110, 3: 68, 4: 7, 5: 8, 6: 188, 7: 142, 8: 185, 9: 118, 10: 22, 11: 148, 12: 39, 13: 32, 14: 202, 15: 417, 16: 324, 17: 311}\n",
      "Episode 2: Reward = 6530.0, Time = 2.82 seconds with 2554 steps and actions: {0: 54, 1: 68, 2: 104, 3: 10, 4: 8, 5: 3, 6: 144, 7: 168, 8: 158, 9: 100, 10: 9, 11: 124, 12: 5, 13: 21, 14: 231, 15: 497, 16: 495, 17: 355}\n",
      "Episode 3: Reward = 16930.0, Time = 3.44 seconds with 3158 steps and actions: {0: 53, 1: 42, 2: 142, 3: 78, 4: 12, 5: 25, 6: 229, 7: 202, 8: 197, 9: 171, 10: 25, 11: 161, 12: 31, 13: 47, 14: 330, 15: 503, 16: 475, 17: 435}\n",
      "Episode 4: Reward = 21010.0, Time = 4.42 seconds with 4068 steps and actions: {0: 55, 1: 27, 2: 118, 3: 69, 4: 16, 5: 16, 6: 340, 7: 241, 8: 354, 9: 201, 10: 19, 11: 243, 12: 8, 13: 69, 14: 360, 15: 745, 16: 559, 17: 628}\n",
      "Episode 5: Reward = 18180.0, Time = 3.67 seconds with 3346 steps and actions: {0: 44, 1: 35, 2: 124, 3: 55, 4: 9, 5: 21, 6: 316, 7: 197, 8: 278, 9: 146, 10: 23, 11: 140, 12: 23, 13: 44, 14: 259, 15: 580, 16: 514, 17: 538}\n",
      "Episode 6: Reward = 14480.0, Time = 3.18 seconds with 2930 steps and actions: {0: 32, 1: 52, 2: 127, 3: 53, 4: 3, 5: 5, 6: 243, 7: 194, 8: 220, 9: 159, 10: 31, 11: 162, 12: 18, 13: 28, 14: 238, 15: 524, 16: 459, 17: 382}\n",
      "Episode 7: Reward = 14050.0, Time = 2.75 seconds with 2563 steps and actions: {0: 34, 1: 31, 2: 78, 3: 80, 4: 6, 5: 5, 6: 188, 7: 131, 8: 228, 9: 98, 10: 25, 11: 145, 12: 8, 13: 41, 14: 179, 15: 554, 16: 406, 17: 326}\n",
      "Episode 8: Reward = 13210.0, Time = 3.01 seconds with 2665 steps and actions: {0: 44, 1: 42, 2: 63, 3: 70, 4: 5, 5: 18, 6: 195, 7: 213, 8: 170, 9: 118, 10: 17, 11: 175, 12: 17, 13: 79, 14: 228, 15: 431, 16: 416, 17: 364}\n",
      "Episode 9: Reward = 8990.0, Time = 2.97 seconds with 2647 steps and actions: {0: 168, 1: 45, 2: 191, 3: 17, 4: 4, 5: 22, 6: 167, 7: 93, 8: 158, 9: 71, 10: 22, 11: 136, 12: 16, 13: 32, 14: 217, 15: 429, 16: 464, 17: 395}\n",
      "Episode 10: Reward = 9060.0, Time = 2.37 seconds with 2175 steps and actions: {0: 35, 1: 15, 2: 110, 3: 39, 4: 11, 5: 11, 6: 159, 7: 126, 8: 127, 9: 128, 10: 8, 11: 114, 12: 13, 13: 32, 14: 216, 15: 386, 16: 401, 17: 244}\n",
      "\n",
      "Summary:\n",
      "Agent: ../models/Seaquest/1/mdqn_modern_50M.gz\n",
      "Total Episodes: 10\n",
      "Average Reward: 13609.00\n",
      "Reward Standard Deviation: 4242.08\n",
      "Min Reward: 6530.0\n",
      "Max Reward: 21010.0\n",
      "Average Time: 3.17 seconds\n",
      "Time Standard Deviation: 0.54 seconds\n",
      "Min Time: 2.37 seconds\n",
      "Max Step: 4.42 seconds\n",
      "Average Step: 2851.30 steps\n",
      "Step Standard Deviation: 522.31 steps\n",
      "Min Step: 2175 steps\n",
      "Max Step: 4068 steps\n",
      "--------------------------------------\n",
      "------------------------------------------------\n",
      "Overall Average Reward: 13609.00, Time: 3.17 seconds and 2851.30 steps\n",
      "Overall Reward Standard Deviation: 4242.08, Time Standard Deviation: 0.54 seconds, Step Standard Deviation: 522.31\n",
      "------------------------------------------------\n"
     ]
    }
   ],
   "source": [
    "# \"eval.py\" can accept a list of models\n",
    "models_path = ' '.join( f'{model.as_posix()}' for model in models_list )\n",
    "\n",
    "\n",
    "eval_command = f\"python {eval_path} -g {selected_game} -a {models_path} {mod_args} {stored_parameter} {eval_parameter}\"\n",
    "\n",
    "print(\"eval command: \" + eval_command)\n",
    "\n",
    "!{eval_command}"
   ]
  },
  {
   "cell_type": "markdown",
   "id": "a243c5f3",
   "metadata": {},
   "source": [
    "### Execute the command with run.py (accept only one model and visualize each espiode)"
   ]
  },
  {
   "cell_type": "code",
   "execution_count": null,
   "id": "30b9ea05",
   "metadata": {},
   "outputs": [
    {
     "name": "stdout",
     "output_type": "stream",
     "text": [
      "run command: python /mnt/c/Users/peng_/workspace/HackAtari/scripts/run.py -g Seaquest -a ../models/Seaquest/1/mdqn_modern_50M.gz   -mo 0 -d 0 -w 4 -f 4 -obs dqn\n"
     ]
    },
    {
     "name": "stderr",
     "output_type": "stream",
     "text": [
      "1706.33s - pydevd: Sending message related to process being replaced timed-out after 5 seconds\n"
     ]
    },
    {
     "name": "stdout",
     "output_type": "stream",
     "text": [
      "A.L.E: Arcade Learning Environment (version 0.10.2+c9d4b19)\n",
      "[Powered by Stella]\n",
      "Loaded agent from ../models/Seaquest/1/mdqn_modern_50M.gz\n"
     ]
    }
   ],
   "source": [
    "# \"run.py\" can only accept one model\n",
    "assert len(models_list) > 0, \"Please select at least one model\"\n",
    "models_path = f'{models_list[0].as_posix()}'\n",
    "\n",
    "run_command = f\"python {run_path} -g {selected_game} -a {models_path} {mod_args} {stored_parameter}\"\n",
    "print(\"run command: \" + run_command)\n",
    "\n",
    "!{run_command}"
   ]
  },
  {
   "cell_type": "markdown",
   "id": "9172756d-9aaa-4214-8d8d-2dfe8a6264c8",
   "metadata": {},
   "source": [
    "# Evaluation (with AIM-UI trace)"
   ]
  },
  {
   "cell_type": "code",
   "execution_count": 58,
   "id": "cb732699-43e9-4ccb-b8c8-aac2f843e3c1",
   "metadata": {},
   "outputs": [],
   "source": [
    "# add current module to the path\n",
    "import os\n",
    "import sys\n",
    "module_path = os.path.abspath(os.path.join('..'))\n",
    "if module_path not in sys.path:\n",
    "    sys.path.append(module_path)\n",
    "    "
   ]
  },
  {
   "cell_type": "markdown",
   "id": "bd324348",
   "metadata": {},
   "source": [
    "### Experiments with all subsets of selected modifs"
   ]
  },
  {
   "cell_type": "code",
   "execution_count": 59,
   "id": "5bdf8851",
   "metadata": {},
   "outputs": [
    {
     "name": "stdout",
     "output_type": "stream",
     "text": [
      "[['']]\n"
     ]
    }
   ],
   "source": [
    "from itertools import combinations\n",
    "mod_list = mod_args.split(\" \")\n",
    "\n",
    "# return all non-emtpy subsets\n",
    "def subsets(fullset):    \n",
    "    result = []\n",
    "    for i in range(1, len(fullset) + 1):\n",
    "        tmp = [ list(c) for c in combinations(fullset, i) ]\n",
    "        result += tmp\n",
    "        \n",
    "    return result\n",
    "\n",
    "mod_sublists = subsets(mod_list)\n",
    "\n",
    "print(mod_sublists)"
   ]
  },
  {
   "cell_type": "code",
   "execution_count": 60,
   "id": "5fd14b81",
   "metadata": {},
   "outputs": [
    {
     "name": "stderr",
     "output_type": "stream",
     "text": [
      "2502.87s - pydevd: Sending message related to process being replaced timed-out after 5 seconds\n"
     ]
    },
    {
     "name": "stdout",
     "output_type": "stream",
     "text": [
      "Re-initialized empty Aim repository at /mnt/c/Users/peng_/workspace/HackAtari/automatic_evaluator\n"
     ]
    },
    {
     "data": {
      "text/html": [
       "\n",
       "              <iframe id=\"aim\" width=\"100%\" height=\"800\" frameborder=\"0\" src=http://127.0.0.1:43801/notebook>\n",
       "              </iframe>\n",
       "            "
      ],
      "text/plain": [
       "<IPython.core.display.HTML object>"
      ]
     },
     "metadata": {},
     "output_type": "display_data"
    }
   ],
   "source": [
    "%reload_ext aim\n",
    "\n",
    "!aim init -y # it will (re-)initialize an empty aim repo.\n",
    "\n",
    "%aim up"
   ]
  },
  {
   "cell_type": "code",
   "execution_count": 61,
   "id": "2557aaac",
   "metadata": {},
   "outputs": [
    {
     "name": "stdout",
     "output_type": "stream",
     "text": [
      "Loaded agent from ../models/Seaquest/1/mdqn_modern_50M.gz\n",
      "--------------------------------------\n",
      "Done.\n"
     ]
    }
   ],
   "source": [
    "%reload_ext autoreload\n",
    "\n",
    "%autoreload 1\n",
    "\n",
    "%aimport utils\n",
    "\n",
    "# agent_paths = [model.as_posix() for model in models_list]\n",
    "# for agent_path in agent_paths:\n",
    "#     agent_name = \"/\".join(agent_path.split(\"/\")[-2:])\n",
    "#     print(agent_name)\n",
    "        \n",
    "for modifs in mod_sublists:\n",
    "    utils.eval_withAimRun(selected_game, [ model.as_posix() for model in models_list], modifs)\n"
   ]
  }
 ],
 "metadata": {
  "kernelspec": {
   "display_name": "venv",
   "language": "python",
   "name": "python3"
  },
  "language_info": {
   "codemirror_mode": {
    "name": "ipython",
    "version": 3
   },
   "file_extension": ".py",
   "mimetype": "text/x-python",
   "name": "python",
   "nbconvert_exporter": "python",
   "pygments_lexer": "ipython3",
   "version": "3.11.11"
  }
 },
 "nbformat": 4,
 "nbformat_minor": 5
}
